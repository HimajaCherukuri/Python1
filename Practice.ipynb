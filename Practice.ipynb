{
 "cells": [
  {
   "cell_type": "code",
   "execution_count": 1,
   "metadata": {},
   "outputs": [
    {
     "name": "stdout",
     "output_type": "stream",
     "text": [
      "4\n",
      "3\n",
      "7\n",
      "9\n",
      "17\n"
     ]
    },
    {
     "data": {
      "text/plain": [
       "3"
      ]
     },
     "execution_count": 1,
     "metadata": {},
     "output_type": "execute_result"
    }
   ],
   "source": [
    "def prime(num):\n",
    "    c=0\n",
    "    for i in num:\n",
    "        f=0\n",
    "        if i==0 or i==1:\n",
    "            f=1\n",
    "        for j in range(2,i):\n",
    "            if i%j==0:\n",
    "                f=1\n",
    "                break\n",
    "        if(f!=1):\n",
    "            c=c+1\n",
    "    return c\n",
    "n=int(input())\n",
    "num=[]\n",
    "for i in range(n):\n",
    "    x=int(input())\n",
    "    num.append(x)\n",
    "prime(num)"
   ]
  },
  {
   "cell_type": "code",
   "execution_count": 2,
   "metadata": {},
   "outputs": [
    {
     "name": "stdout",
     "output_type": "stream",
     "text": [
      "87\n",
      "hjvj\n",
      "2\n",
      "47\n",
      "39\n",
      "43\n",
      "C\n"
     ]
    }
   ],
   "source": [
    "class Student:\n",
    "    def __init__(self,name,roll,marks):\n",
    "        self.name=name\n",
    "        self.roll=roll\n",
    "        self.marks=marks\n",
    "        self.per=None\n",
    "    def percentage(self):\n",
    "        s=sum(self.marks)\n",
    "        n=len(self.marks)\n",
    "        p=s//n\n",
    "        self.per=p\n",
    "        return p\n",
    "    def grade(self):\n",
    "        p=self.per\n",
    "        if(p>=80):\n",
    "            g='A'\n",
    "        elif(p>=60 and p<80):\n",
    "            g='B'\n",
    "        elif(p>=40 and p<60):\n",
    "            g='C'\n",
    "        else:\n",
    "            g='F'\n",
    "        return g\n",
    "roll=int(input())\n",
    "name=input()\n",
    "cnt=int(input())\n",
    "marks=[]\n",
    "for i in range(cnt):\n",
    "    x=int(input())\n",
    "    marks.append(x)\n",
    "r=Student(name,roll,marks)\n",
    "m=r.percentage()\n",
    "n=r.grade()\n",
    "print(m)\n",
    "print(n)"
   ]
  },
  {
   "cell_type": "code",
   "execution_count": 10,
   "metadata": {},
   "outputs": [
    {
     "name": "stdout",
     "output_type": "stream",
     "text": [
      "hi 1\n"
     ]
    }
   ],
   "source": [
    "x=1\n",
    "print('hi',x)"
   ]
  },
  {
   "cell_type": "code",
   "execution_count": 13,
   "metadata": {},
   "outputs": [
    {
     "name": "stdout",
     "output_type": "stream",
     "text": [
      "madam\n",
      "p\n"
     ]
    }
   ],
   "source": [
    "s='madam'\n",
    "l=len(s)\n",
    "print(s[::-1])\n",
    "if s==s[::-1]:\n",
    "    print('p')\n",
    "else:\n",
    "    print('np')"
   ]
  },
  {
   "cell_type": "code",
   "execution_count": 16,
   "metadata": {},
   "outputs": [
    {
     "name": "stdout",
     "output_type": "stream",
     "text": [
      "['m', 'a', 'd', 'a', 'm']\n",
      "None\n"
     ]
    }
   ],
   "source": [
    "s='madam'\n",
    "l=[]\n",
    "for i in range(len(s)):\n",
    "    l.append(s[i])\n",
    "print(l)\n",
    "k=[]\n",
    "k=l.\n",
    "print(k)\n",
    "if l==k:\n",
    "    print('p')"
   ]
  },
  {
   "cell_type": "code",
   "execution_count": 25,
   "metadata": {},
   "outputs": [
    {
     "name": "stdout",
     "output_type": "stream",
     "text": [
      "2020\n",
      "True\n"
     ]
    }
   ],
   "source": [
    "year=int(input())\n",
    "leap = False\n",
    "if(year%4==0):\n",
    "    if year%100==0:\n",
    "        if year%400==0:\n",
    "            leap = True\n",
    "            #print('True')\n",
    "        else:\n",
    "            leap = False\n",
    "            #print('False')\n",
    "    else:\n",
    "        leap = True\n",
    "        #print('True')\n",
    "else:\n",
    "    leap = False\n",
    "    #print('False')\n",
    "print(leap)"
   ]
  },
  {
   "cell_type": "code",
   "execution_count": 38,
   "metadata": {},
   "outputs": [
    {
     "name": "stdout",
     "output_type": "stream",
     "text": [
      "6\n"
     ]
    }
   ],
   "source": [
    "l=[1,6,3,6,7]\n",
    "x=[]\n",
    "x=sorted(l)\n",
    "print(x[-2])"
   ]
  },
  {
   "cell_type": "code",
   "execution_count": 32,
   "metadata": {},
   "outputs": [
    {
     "name": "stdout",
     "output_type": "stream",
     "text": [
      "Help on built-in function sort:\n",
      "\n",
      "sort(...) method of builtins.list instance\n",
      "    L.sort(key=None, reverse=False) -> None -- stable sort *IN PLACE*\n",
      "\n"
     ]
    }
   ],
   "source": [
    "help(l.sort)"
   ]
  },
  {
   "cell_type": "code",
   "execution_count": 47,
   "metadata": {},
   "outputs": [
    {
     "name": "stdout",
     "output_type": "stream",
     "text": [
      "{1, 3, 6}\n"
     ]
    },
    {
     "data": {
      "text/plain": [
       "6"
      ]
     },
     "execution_count": 47,
     "metadata": {},
     "output_type": "execute_result"
    }
   ],
   "source": [
    "l=[1,6,3,6,7]\n",
    "x=set(l)\n",
    "x.remove(max(x))\n",
    "print(x)\n",
    "max(x)"
   ]
  },
  {
   "cell_type": "code",
   "execution_count": 45,
   "metadata": {},
   "outputs": [
    {
     "name": "stdout",
     "output_type": "stream",
     "text": [
      "[4, 3, 5, 4, 1]\n",
      "[1, 4, 5, 3, 4]\n",
      "[4, 3, 5, 4, 1]\n"
     ]
    }
   ],
   "source": [
    "l=[1,4,5,3,4]\n",
    "l.reverse()\n",
    "print(l)\n",
    "x=list(reversed(l))\n",
    "print(x)\n",
    "print(l)"
   ]
  },
  {
   "cell_type": "code",
   "execution_count": 53,
   "metadata": {},
   "outputs": [
    {
     "name": "stdout",
     "output_type": "stream",
     "text": [
      "2\n",
      "Mam\n",
      "Madam\n",
      "Mam\n",
      "Madam\n"
     ]
    }
   ],
   "source": [
    "def palindrome(l):\n",
    "    res=[]\n",
    "    for i in l:\n",
    "        j=i.lower()\n",
    "        if j==j[::-1]:\n",
    "            res.append(i)\n",
    "    return res        \n",
    "n=int(input())\n",
    "l=[]\n",
    "for i in range(n):\n",
    "    l.append(input())\n",
    "result=palindrome(l)\n",
    "for i in result:\n",
    "    print(i)"
   ]
  },
  {
   "cell_type": "markdown",
   "metadata": {},
   "source": [
    "### December17(1)\n",
    "Create a class Payslip having attributes basicSalary,hra and ita.\n",
    "Create a class PaySlipDemo containing a method getHighestPF with takes list of payslip objects and return the highest PF among the objects.\n",
    "PF should be 12% of basic salary\n",
    "\n",
    "input:\n",
    "\n",
    "2\n",
    "\n",
    "10000\n",
    "\n",
    "2000\n",
    "\n",
    "1000\n",
    "\n",
    "50000\n",
    "\n",
    "3000\n",
    "\n",
    "2000\n",
    "\n",
    "output:\n",
    "6000"
   ]
  },
  {
   "cell_type": "code",
   "execution_count": 5,
   "metadata": {},
   "outputs": [
    {
     "name": "stdout",
     "output_type": "stream",
     "text": [
      "2\n",
      "2000\n",
      "100\n",
      "300\n",
      "3000\n",
      "400\n",
      "100\n",
      "360\n"
     ]
    }
   ],
   "source": [
    "class Payslip:\n",
    "  def __init__(self,bs,h,t):\n",
    "    self.bs=bs\n",
    "    self.h=h\n",
    "    self.t=t\n",
    "class Pd:\n",
    "  #def __init__(self):\n",
    "    #self.a=1\n",
    "  def getpf(self,l):\n",
    "    k=[]\n",
    "    for i in l:\n",
    "        a=i.bs*0.12\n",
    "        k.append(a)\n",
    "    k1=max(k)\n",
    "    return int(k1)\n",
    "if __name__=='__main__':\n",
    "  p=[]\n",
    "  c=int(input())\n",
    "  for  i in range(c):\n",
    "    bs=int(input())\n",
    "    h=input()\n",
    "    t=int(input())\n",
    "    p.append(Payslip(bs,h,t))\n",
    "  pa=Pd()\n",
    "  pf=pa.getpf(p)\n",
    "  print (pf)"
   ]
  },
  {
   "cell_type": "markdown",
   "metadata": {},
   "source": [
    "### December17(2)\n",
    "Create a class Stock having attributes StockName,StockSector,StockValue.\n",
    "Create a method getStockList with takes a list of Stock objects and a StockSector(string) and returns a list containing stocks of the given sector having value more than 500.\n",
    "\n",
    "input:\n",
    "\n",
    "3\n",
    "\n",
    "TCS\n",
    "\n",
    "IT\n",
    "\n",
    "1000\n",
    "\n",
    "INFY\n",
    "\n",
    "IT\n",
    "\n",
    "400\n",
    "\n",
    "BMW\n",
    "\n",
    "Auto\n",
    "\n",
    "1200\n",
    "\n",
    "IT\n",
    "\n",
    "Output:\n",
    "TCS"
   ]
  },
  {
   "cell_type": "code",
   "execution_count": 4,
   "metadata": {},
   "outputs": [
    {
     "name": "stdout",
     "output_type": "stream",
     "text": [
      "2\n",
      "tcs\n",
      "it\n",
      "1200\n",
      "infy\n",
      "it\n",
      "459\n",
      "it\n",
      "tcs 1200\n"
     ]
    }
   ],
   "source": [
    "class Stock:\n",
    "  def __init__(self,sn,ss,sv):\n",
    "    self.sn=sn\n",
    "    self.ss=ss\n",
    "    self.sv=sv\n",
    "class StockDemo:\n",
    "  def __init__(self):\n",
    "    self.a=10\n",
    "  def gets(self,l,s):\n",
    "    k=[]\n",
    "    for i in l:\n",
    "      if(i.ss==s and i.sv>500):\n",
    "        k.append(i)\n",
    "    return k\n",
    "\n",
    "\n",
    "if __name__=='__main__':\n",
    "  c=int(input())\n",
    "  p=[]\n",
    "  for i in range(c):\n",
    "    sn=input()\n",
    "    ss=input()\n",
    "    sv=int(input())\n",
    "    o=Stock(sn,ss,sv)\n",
    "    p.append(o)\n",
    "  s=input()\n",
    "  pra=StockDemo()\n",
    "  l=pra.gets(p,s)\n",
    "  for i in l:\n",
    "      print (i.sn,i.sv)\n"
   ]
  },
  {
   "cell_type": "markdown",
   "metadata": {},
   "source": [
    "### December28(1)\n",
    "Create a class called apartment with attributes flatnumber,owner name,electicity bill amount.\n",
    "\n",
    "Create another class apartment_demo with def init(self): pass ​ to create a method getSecondMinBill that takes the list of objects and gives the second minimum electricity bill as output. \n",
    "\n",
    "input:\n",
    "\n",
    "3(no of objects to be created) \n",
    "\n",
    "1000 \n",
    "\n",
    "Hari \n",
    "\n",
    "5000 \n",
    "\n",
    "1001 \n",
    "\n",
    "Hena \n",
    "\n",
    "5002 \n",
    "\n",
    "1002 \n",
    "\n",
    "Harsha \n",
    "\n",
    "5001 \n",
    "\n",
    "output:\n",
    "\n",
    "5001 (since it is the second minimum bill amount among the bills)"
   ]
  },
  {
   "cell_type": "code",
   "execution_count": 2,
   "metadata": {},
   "outputs": [
    {
     "name": "stdout",
     "output_type": "stream",
     "text": [
      "2\n",
      "1\n",
      "a\n",
      "12\n",
      "2\n",
      "b\n",
      "6\n",
      "12\n"
     ]
    }
   ],
   "source": [
    "#DECEMBER 28(1)\n",
    "\n",
    "class Apartment: \n",
    "    def __init__(self,no,name,eb):\n",
    "        self.no=no\n",
    "        self.name=name\n",
    "        self.eb=eb\n",
    "class Getsecondminbill:\n",
    "    def __init__(self):\n",
    "        pass\n",
    "    def calc(self,l):\n",
    "        m=[]\n",
    "        for i in l:\n",
    "            m.append(i.eb)\n",
    "        m.sort()\n",
    "        return m[1]\n",
    "if __name__=='__main__':\n",
    "    l=[]\n",
    "    count=int(input())\n",
    "    for i in range(count):\n",
    "        no=int(input())\n",
    "        name=input()\n",
    "        eb=int(input())\n",
    "        l.append(Apartment(no,name,eb))\n",
    "    demo=Getsecondminbill()\n",
    "    m=demo.calc(l)\n",
    "    print(m) "
   ]
  },
  {
   "cell_type": "markdown",
   "metadata": {},
   "source": [
    "Create a class Bill with attributes mobile number and payment bill.\n",
    "\n",
    "Create another class mobile with attributes service provider, mobile number, data used, payment method.\n",
    "\n",
    "Service provider maybe airtel or jio. Data used is integer values in Gigabytes(GB). Payment method maybe paytm,gpay,amazon and so on.\n",
    "\n",
    "Create a method calculate bill that takes the list of objects and calculates the bill and returns the list of objects of class bill with mobile number and payment bill.\n",
    "\n",
    "The payment is calculated as follows:\n",
    "\n",
    "1.If the service provider is airtel, the bill is Rs.11 for every 1GB used and if it is jio, the bill is Rs.10 for every 1GB used. \n",
    "\n",
    "2. If the payment method is paytm there is a cashback of 10% of the total bill for airtel users only. The bill is calculated and rounded off after deducing the cashback value.\n",
    "\n",
    "\n",
    "input:\n",
    "\n",
    "3(No of objects to be created) \n",
    "\n",
    "airtel \n",
    "\n",
    "123 \n",
    "\n",
    "16 \n",
    "\n",
    "paytm \n",
    "\n",
    "airtel \n",
    "\n",
    "456 \n",
    "\n",
    "10 \n",
    "\n",
    "amazon \n",
    "\n",
    "jio \n",
    "\n",
    "788 \n",
    "\n",
    "10 \n",
    "\n",
    "paytm \n",
    "\n",
    "\n",
    "Output:\n",
    "\n",
    "(123,158) \n",
    "\n",
    "(456,110) \n",
    "\n",
    "(789,100) "
   ]
  },
  {
   "cell_type": "code",
   "execution_count": null,
   "metadata": {},
   "outputs": [],
   "source": []
  },
  {
   "cell_type": "code",
   "execution_count": 7,
   "metadata": {},
   "outputs": [
    {
     "name": "stdout",
     "output_type": "stream",
     "text": [
      "2\n",
      "jio\n",
      "123\n",
      "21\n",
      "paytm\n",
      "airtel\n",
      "456\n",
      "32\n",
      "paytm\n"
     ]
    },
    {
     "ename": "AttributeError",
     "evalue": "'Bill' object has no attribute 'a'",
     "output_type": "error",
     "traceback": [
      "\u001b[1;31m---------------------------------------------------------------------------\u001b[0m",
      "\u001b[1;31mAttributeError\u001b[0m                            Traceback (most recent call last)",
      "\u001b[1;32m<ipython-input-7-0367db602626>\u001b[0m in \u001b[0;36m<module>\u001b[1;34m\u001b[0m\n\u001b[0;32m     33\u001b[0m     \u001b[0mm\u001b[0m\u001b[1;33m=\u001b[0m\u001b[0mdemo\u001b[0m\u001b[1;33m.\u001b[0m\u001b[0mcalc\u001b[0m\u001b[1;33m(\u001b[0m\u001b[0ml\u001b[0m\u001b[1;33m)\u001b[0m\u001b[1;33m\u001b[0m\u001b[0m\n\u001b[0;32m     34\u001b[0m     \u001b[1;32mfor\u001b[0m \u001b[0mi\u001b[0m \u001b[1;32min\u001b[0m \u001b[0mm\u001b[0m\u001b[1;33m:\u001b[0m\u001b[1;33m\u001b[0m\u001b[0m\n\u001b[1;32m---> 35\u001b[1;33m         \u001b[0mprint\u001b[0m \u001b[1;33m(\u001b[0m\u001b[0mi\u001b[0m\u001b[1;33m.\u001b[0m\u001b[0mno\u001b[0m\u001b[1;33m,\u001b[0m\u001b[0mi\u001b[0m\u001b[1;33m.\u001b[0m\u001b[0ma\u001b[0m\u001b[1;33m)\u001b[0m\u001b[1;33m\u001b[0m\u001b[0m\n\u001b[0m\u001b[0;32m     36\u001b[0m \u001b[1;33m\u001b[0m\u001b[0m\n\u001b[0;32m     37\u001b[0m \u001b[1;33m\u001b[0m\u001b[0m\n",
      "\u001b[1;31mAttributeError\u001b[0m: 'Bill' object has no attribute 'a'"
     ]
    }
   ],
   "source": [
    "#Decenber28(2)\n",
    "class Bill: \n",
    "    def __init__(self,no,b):\n",
    "        self.no=no\n",
    "        self.b=b\n",
    "class Mob:\n",
    "    def __init__(self,sp,no,net,p):\n",
    "        self.sp=sp\n",
    "        self.no=no\n",
    "        self.net=net\n",
    "        self.p=p\n",
    "    def calc(self,l):\n",
    "        m=[]\n",
    "        for i in l:\n",
    "            if i.sp==\"airtel\":\n",
    "                b=i.net*11\n",
    "                if i.p==\"paytm\":\n",
    "                    b-=(0.1*b)\n",
    "            elif i.sp==\"jio\":\n",
    "                b=i.net*10\n",
    "            m.append(Bill(i.no,int(b)))\n",
    "        return m\n",
    "if __name__=='__main__':\n",
    "    l=[]\n",
    "    count=int(input())\n",
    "    for i in range(count):\n",
    "        sp=input()\n",
    "        no=int(input())\n",
    "        net=int(input())\n",
    "        p=input()\n",
    "        l.append(Mob(sp,no,net,p))\n",
    "    demo=Mob(\"\",0,0,\"\")\n",
    "    m=demo.calc(l)\n",
    "    for i in m:\n",
    "        print (i.no,i.b)\n",
    "    \n",
    "\n"
   ]
  },
  {
   "cell_type": "code",
   "execution_count": 1,
   "metadata": {},
   "outputs": [
    {
     "ename": "AttributeError",
     "evalue": "'tuple' object has no attribute 'append'",
     "output_type": "error",
     "traceback": [
      "\u001b[1;31m---------------------------------------------------------------------------\u001b[0m",
      "\u001b[1;31mAttributeError\u001b[0m                            Traceback (most recent call last)",
      "\u001b[1;32m<ipython-input-1-fd68b6384c8e>\u001b[0m in \u001b[0;36m<module>\u001b[1;34m()\u001b[0m\n\u001b[0;32m      1\u001b[0m \u001b[0mt\u001b[0m\u001b[1;33m=\u001b[0m\u001b[1;33m(\u001b[0m\u001b[1;36m1\u001b[0m\u001b[1;33m,\u001b[0m\u001b[1;36m2\u001b[0m\u001b[1;33m,\u001b[0m\u001b[1;36m3\u001b[0m\u001b[1;33m,\u001b[0m\u001b[1;36m4\u001b[0m\u001b[1;33m)\u001b[0m\u001b[1;33m\u001b[0m\u001b[0m\n\u001b[1;32m----> 2\u001b[1;33m \u001b[0mt\u001b[0m\u001b[1;33m.\u001b[0m\u001b[0mappend\u001b[0m\u001b[1;33m(\u001b[0m\u001b[1;36m5\u001b[0m\u001b[1;33m)\u001b[0m\u001b[1;33m\u001b[0m\u001b[0m\n\u001b[0m\u001b[0;32m      3\u001b[0m \u001b[0mprint\u001b[0m\u001b[1;33m(\u001b[0m\u001b[0mt\u001b[0m\u001b[1;33m)\u001b[0m\u001b[1;33m\u001b[0m\u001b[0m\n",
      "\u001b[1;31mAttributeError\u001b[0m: 'tuple' object has no attribute 'append'"
     ]
    }
   ],
   "source": [
    "t=(1,2,3,4)\n",
    "t.append(5)\n",
    "print(t)"
   ]
  },
  {
   "cell_type": "code",
   "execution_count": 12,
   "metadata": {},
   "outputs": [
    {
     "name": "stdout",
     "output_type": "stream",
     "text": [
      "False\n"
     ]
    }
   ],
   "source": [
    "print({} is {})"
   ]
  },
  {
   "cell_type": "code",
   "execution_count": 13,
   "metadata": {},
   "outputs": [
    {
     "ename": "SyntaxError",
     "evalue": "Missing parentheses in call to 'print'. Did you mean print(\"hii\")? (<ipython-input-13-6eb14e1c38f4>, line 1)",
     "output_type": "error",
     "traceback": [
      "\u001b[1;36m  File \u001b[1;32m\"<ipython-input-13-6eb14e1c38f4>\"\u001b[1;36m, line \u001b[1;32m1\u001b[0m\n\u001b[1;33m    print \"hii\"\u001b[0m\n\u001b[1;37m              ^\u001b[0m\n\u001b[1;31mSyntaxError\u001b[0m\u001b[1;31m:\u001b[0m Missing parentheses in call to 'print'. Did you mean print(\"hii\")?\n"
     ]
    }
   ],
   "source": [
    "print \"hii\"\n",
    "x=int(input(\"enter\"))\n",
    "print \"did u know\"+str(n)+'squared is:'+str(n*n)"
   ]
  },
  {
   "cell_type": "code",
   "execution_count": 16,
   "metadata": {},
   "outputs": [
    {
     "ename": "ModuleNotFoundError",
     "evalue": "No module named 'Math'",
     "output_type": "error",
     "traceback": [
      "\u001b[1;31m---------------------------------------------------------------------------\u001b[0m",
      "\u001b[1;31mModuleNotFoundError\u001b[0m                       Traceback (most recent call last)",
      "\u001b[1;32m<ipython-input-16-01d2a78ae983>\u001b[0m in \u001b[0;36m<module>\u001b[1;34m()\u001b[0m\n\u001b[1;32m----> 1\u001b[1;33m \u001b[1;32mimport\u001b[0m \u001b[0mMath\u001b[0m\u001b[1;33m\u001b[0m\u001b[0m\n\u001b[0m\u001b[0;32m      2\u001b[0m \u001b[0mMath\u001b[0m\u001b[1;33m.\u001b[0m\u001b[0msqrt\u001b[0m\u001b[1;33m(\u001b[0m\u001b[1;36m36\u001b[0m\u001b[1;33m)\u001b[0m\u001b[1;33m\u001b[0m\u001b[0m\n",
      "\u001b[1;31mModuleNotFoundError\u001b[0m: No module named 'Math'"
     ]
    }
   ],
   "source": [
    "import Math\n",
    "Math.sqrt(36)"
   ]
  },
  {
   "cell_type": "code",
   "execution_count": 20,
   "metadata": {},
   "outputs": [
    {
     "data": {
      "text/plain": [
       "slice(2, 4, None)"
      ]
     },
     "execution_count": 20,
     "metadata": {},
     "output_type": "execute_result"
    }
   ],
   "source": [
    "l=[1,2,3,4,56]\n",
    "x=slice(2,4)\n",
    "x"
   ]
  },
  {
   "cell_type": "markdown",
   "metadata": {},
   "source": [
    "### Different kinds of variables(attributes)"
   ]
  },
  {
   "cell_type": "code",
   "execution_count": 51,
   "metadata": {},
   "outputs": [
    {
     "name": "stdout",
     "output_type": "stream",
     "text": [
      "Config is:  BMW 20\n",
      "None\n",
      "Config is:  BMW 20\n",
      "None\n"
     ]
    },
    {
     "ename": "TypeError",
     "evalue": "info() missing 1 required positional argument: 'cls'",
     "output_type": "error",
     "traceback": [
      "\u001b[1;31m---------------------------------------------------------------------------\u001b[0m",
      "\u001b[1;31mTypeError\u001b[0m                                 Traceback (most recent call last)",
      "\u001b[1;32m<ipython-input-51-ea9231999bb3>\u001b[0m in \u001b[0;36m<module>\u001b[1;34m()\u001b[0m\n\u001b[0;32m     12\u001b[0m \u001b[0mprint\u001b[0m\u001b[1;33m(\u001b[0m\u001b[0mc1\u001b[0m\u001b[1;33m.\u001b[0m\u001b[0mconfig\u001b[0m\u001b[1;33m(\u001b[0m\u001b[1;33m)\u001b[0m\u001b[1;33m)\u001b[0m\u001b[1;33m\u001b[0m\u001b[0m\n\u001b[0;32m     13\u001b[0m \u001b[0mprint\u001b[0m\u001b[1;33m(\u001b[0m\u001b[0mc2\u001b[0m\u001b[1;33m.\u001b[0m\u001b[0mconfig\u001b[0m\u001b[1;33m(\u001b[0m\u001b[1;33m)\u001b[0m\u001b[1;33m)\u001b[0m\u001b[1;33m\u001b[0m\u001b[0m\n\u001b[1;32m---> 14\u001b[1;33m \u001b[0mprint\u001b[0m\u001b[1;33m(\u001b[0m\u001b[0mcar\u001b[0m\u001b[1;33m.\u001b[0m\u001b[0minfo\u001b[0m\u001b[1;33m(\u001b[0m\u001b[1;33m)\u001b[0m\u001b[1;33m)\u001b[0m\u001b[1;33m\u001b[0m\u001b[0m\n\u001b[0m\u001b[0;32m     15\u001b[0m \u001b[1;33m\u001b[0m\u001b[0m\n",
      "\u001b[1;31mTypeError\u001b[0m: info() missing 1 required positional argument: 'cls'"
     ]
    }
   ],
   "source": [
    "class car:\n",
    "    wheels=4                 # Instance variables\n",
    "    def __init__(self):\n",
    "        self.com='BMW'       # class/static variables\n",
    "        self.milege=20 \n",
    "    def config(self):\n",
    "        print('Config is: ',self.com,self.milege)\n",
    "    def info(cls):\n",
    "        return cls.wheels\n",
    "c1=car()\n",
    "c2=car()\n",
    "print(c1.config())\n",
    "print(c2.config())\n",
    "print(car.info())\n",
    "    "
   ]
  },
  {
   "cell_type": "markdown",
   "metadata": {},
   "source": [
    "### Different types of Methods(behaviour)"
   ]
  },
  {
   "cell_type": "code",
   "execution_count": 36,
   "metadata": {},
   "outputs": [
    {
     "name": "stdout",
     "output_type": "stream",
     "text": [
      "Config is:  BMW 20\n",
      "None\n",
      "Config is:  BMW 20\n",
      "None\n",
      "4\n",
      "This is a static method\n",
      "None\n"
     ]
    }
   ],
   "source": [
    "class car:\n",
    "    wheels=4\n",
    "    \n",
    "    def __init__(self):  #Instance methods\n",
    "        self.com='BMW'\n",
    "        self.milege=20\n",
    "        \n",
    "    def config(self):\n",
    "        print('Config is: ',self.com,self.milege)\n",
    "        \n",
    "    @classmethod          #Decorator fr class method\n",
    "    \n",
    "    def info(cls):       #class methods\n",
    "        return cls.wheels\n",
    "    \n",
    "    @staticmethod\n",
    "    \n",
    "    def stat():         #static methods\n",
    "        print('This is a static method')\n",
    "    \n",
    "    \n",
    "c1=car()\n",
    "c2=car()\n",
    "print(c1.config())\n",
    "print(c2.config())\n",
    "print(car.info())\n",
    "print(car.stat())"
   ]
  },
  {
   "cell_type": "markdown",
   "metadata": {},
   "source": [
    "### CLASS INSIDE A CLASS"
   ]
  },
  {
   "cell_type": "code",
   "execution_count": 55,
   "metadata": {},
   "outputs": [
    {
     "name": "stdout",
     "output_type": "stream",
     "text": [
      "Hima 1\n",
      "Himaja 2\n",
      "HP\n"
     ]
    }
   ],
   "source": [
    "class student:\n",
    "    def __init__(self,name,rollno):\n",
    "        self.name=name\n",
    "        self.rollno=rollno\n",
    "        self.lap=self.Laptop()   #creating inner class object inside a class\n",
    "        \n",
    "    def show(self):\n",
    "        print(self.name,self.rollno)\n",
    "        \n",
    "    class Laptop:\n",
    "        def __init__(self):\n",
    "            self.brand='HP'\n",
    "            self.ram='16GB'\n",
    "\n",
    "        \n",
    "s1=student('Hima',1)\n",
    "s2=student('Himaja',2)\n",
    "s1.show()\n",
    "s2.show()\n",
    "print(s1.lap.brand)"
   ]
  },
  {
   "cell_type": "code",
   "execution_count": 29,
   "metadata": {},
   "outputs": [
    {
     "name": "stdout",
     "output_type": "stream",
     "text": [
      "Hima 1\n",
      "Himaja 2\n",
      "HP 16GB\n"
     ]
    }
   ],
   "source": [
    "class student:\n",
    "    def __init__(self,name,rollno):\n",
    "        self.name=name\n",
    "        self.rollno=rollno\n",
    "\n",
    "        \n",
    "    def show(self):\n",
    "        print(self.name,self.rollno)\n",
    "        \n",
    "    class Laptop:\n",
    "        def __init__(self):\n",
    "            self.brand='HP'\n",
    "            self.ram='16GB'\n",
    "\n",
    "        \n",
    "s1=student('Hima',1)\n",
    "s2=student('Himaja',2)\n",
    "lap=student.Laptop()\n",
    "s1.show()\n",
    "s2.show()\n",
    "print(lap.brand,lap.ram)"
   ]
  },
  {
   "cell_type": "code",
   "execution_count": 34,
   "metadata": {},
   "outputs": [
    {
     "name": "stdout",
     "output_type": "stream",
     "text": [
      "Hima 1\n",
      "Himaja 2\n",
      "HP 16GB\n"
     ]
    }
   ],
   "source": [
    "class student:\n",
    "    def __init__(self,name,rollno):\n",
    "        self.name=name\n",
    "        self.rollno=rollno\n",
    "\n",
    "        \n",
    "    def show(self):\n",
    "        print(self.name,self.rollno)\n",
    "        \n",
    "    class Laptop:\n",
    "        def __init__(self):\n",
    "            self.brand='HP'\n",
    "            self.ram='16GB'\n",
    "            \n",
    "        def show(self):\n",
    "            print(self.brand,self.ram)\n",
    "\n",
    "        \n",
    "s1=student('Hima',1)\n",
    "s2=student('Himaja',2)\n",
    "lap=student.Laptop()\n",
    "s1.show()\n",
    "s2.show()\n",
    "lap.show()"
   ]
  },
  {
   "cell_type": "markdown",
   "metadata": {},
   "source": [
    "### Inheritance"
   ]
  },
  {
   "cell_type": "code",
   "execution_count": 37,
   "metadata": {},
   "outputs": [
    {
     "name": "stdout",
     "output_type": "stream",
     "text": [
      "Feature 1\n",
      "Feature 2\n",
      "None None\n",
      "Feature 1\n",
      "Feature 2\n",
      "None None\n",
      "Feature 3\n",
      "Feature 4\n",
      "None None\n"
     ]
    }
   ],
   "source": [
    "#\"SINGLE LEVEL INHERITENCE\"\n",
    "\n",
    "class A:\n",
    "    \n",
    "    def feature1(self):\n",
    "        print('Feature 1')\n",
    "        \n",
    "    def feature2(self):\n",
    "        print('Feature 2')\n",
    "        \n",
    "class B(A):\n",
    "    \n",
    "    \n",
    "    def feature3(self):\n",
    "        print('Feature 3')\n",
    "        \n",
    "    def feature4(self):\n",
    "        print('Feature 4')\n",
    "    \n",
    "a=A()\n",
    "print(a.feature1(),a.feature2())\n",
    "\n",
    "b=B()\n",
    "print(b.feature1(),b.feature2())\n",
    "print(b.feature3(),b.feature4())"
   ]
  },
  {
   "cell_type": "code",
   "execution_count": 39,
   "metadata": {},
   "outputs": [
    {
     "name": "stdout",
     "output_type": "stream",
     "text": [
      "Feature 1\n",
      "Feature 2\n",
      "None None\n",
      "Feature 1\n",
      "Feature 2\n",
      "None None\n",
      "Feature 3\n",
      "Feature 4\n",
      "None None\n",
      "Feature 1\n"
     ]
    }
   ],
   "source": [
    "#MULTI LEVEL INHERITENCE\n",
    "\n",
    "class A:\n",
    "    \n",
    "    def feature1(self):\n",
    "        print('Feature 1')\n",
    "        \n",
    "    def feature2(self):\n",
    "        print('Feature 2')\n",
    "        \n",
    "class B(A):\n",
    "    \n",
    "    def feature3(self):\n",
    "        print('Feature 3')\n",
    "        \n",
    "    def feature4(self):\n",
    "        print('Feature 4')\n",
    "    \n",
    "class C(B):\n",
    "    \n",
    "    def feature5(self):\n",
    "        print('Feature 5')\n",
    "        \n",
    "        \n",
    "a=A()\n",
    "print(a.feature1(),a.feature2())\n",
    "\n",
    "b=B()\n",
    "\n",
    "c=C()\n",
    "print(b.feature1(),b.feature2())\n",
    "print(b.feature3(),b.feature4())\n",
    "c.feature1()"
   ]
  },
  {
   "cell_type": "code",
   "execution_count": 42,
   "metadata": {},
   "outputs": [
    {
     "name": "stdout",
     "output_type": "stream",
     "text": [
      "Feature 1\n",
      "Feature 2\n",
      "None None\n",
      "Feature 3\n",
      "Feature 4\n",
      "None None\n",
      "Feature 1\n",
      "Feature 4\n"
     ]
    }
   ],
   "source": [
    "# MULTIPLE INHERITENCE\n",
    "class A:\n",
    "    \n",
    "    def feature1(self):\n",
    "        print('Feature 1')\n",
    "        \n",
    "    def feature2(self):\n",
    "        print('Feature 2')\n",
    "        \n",
    "class B:\n",
    "    \n",
    "    def feature3(self):\n",
    "        print('Feature 3')\n",
    "        \n",
    "    def feature4(self):\n",
    "        print('Feature 4')\n",
    "    \n",
    "class C(A,B):\n",
    "    \n",
    "    def feature5(self):\n",
    "        print('Feature 5')\n",
    "        \n",
    "        \n",
    "a=A()\n",
    "print(a.feature1(),a.feature2())\n",
    "\n",
    "b=B()\n",
    "\n",
    "c=C()\n",
    "#print(b.feature1(),b.feature2())\n",
    "print(b.feature3(),b.feature4())\n",
    "c.feature1()\n",
    "c.feature4()"
   ]
  },
  {
   "cell_type": "markdown",
   "metadata": {},
   "source": [
    "### Constructor in Inheritence"
   ]
  },
  {
   "cell_type": "code",
   "execution_count": 46,
   "metadata": {},
   "outputs": [
    {
     "name": "stdout",
     "output_type": "stream",
     "text": [
      "init in A\n"
     ]
    }
   ],
   "source": [
    "class A:\n",
    "    \n",
    "    def __init__(self):\n",
    "        print('init in A')\n",
    "    \n",
    "    def feature1(self):\n",
    "        print('Feature 1')\n",
    "        \n",
    "    def feature2(self):\n",
    "        print('Feature 2')\n",
    "        \n",
    "class B(A):\n",
    "\n",
    "    def feature3(self):\n",
    "        print('Feature 3')\n",
    "        \n",
    "    def feature4(self):\n",
    "        print('Feature 4')\n",
    "    \n",
    "b=B()     # Here B() constructor searches for b init if it is not found then it goes for the a's init"
   ]
  },
  {
   "cell_type": "code",
   "execution_count": 47,
   "metadata": {},
   "outputs": [
    {
     "name": "stdout",
     "output_type": "stream",
     "text": [
      "init in B\n"
     ]
    }
   ],
   "source": [
    "class A:\n",
    "    \n",
    "    def __init__(self):\n",
    "        print('init in A')\n",
    "    \n",
    "    def feature1(self):\n",
    "        print('Feature 1')\n",
    "        \n",
    "    def feature2(self):\n",
    "        print('Feature 2')\n",
    "        \n",
    "class B(A):\n",
    "    \n",
    "    def __init__(self):\n",
    "        print('init in B')\n",
    "    \n",
    "    def feature3(self):\n",
    "        print('Feature 3')\n",
    "        \n",
    "    def feature4(self):\n",
    "        print('Feature 4')\n",
    "    \n",
    "b=B()"
   ]
  },
  {
   "cell_type": "code",
   "execution_count": 1,
   "metadata": {},
   "outputs": [
    {
     "name": "stdout",
     "output_type": "stream",
     "text": [
      "init in A\n",
      "init in B\n"
     ]
    }
   ],
   "source": [
    "class A:\n",
    "    \n",
    "    def __init__(self):\n",
    "        print('init in A')\n",
    "    \n",
    "    def feature1(self):\n",
    "        print('Feature 1')\n",
    "        \n",
    "    def feature2(self):\n",
    "        print('Feature 2')\n",
    "        \n",
    "class B(A):\n",
    "    \n",
    "    def __init__(self):\n",
    "        super().__init__()\n",
    "        print('init in B')\n",
    "    \n",
    "    def feature3(self):\n",
    "        print('Feature 3')\n",
    "        \n",
    "    def feature4(self):\n",
    "        print('Feature 4')\n",
    "    \n",
    "b=B()"
   ]
  },
  {
   "cell_type": "code",
   "execution_count": 11,
   "metadata": {},
   "outputs": [
    {
     "name": "stdout",
     "output_type": "stream",
     "text": [
      "init in A\n",
      "init in C\n",
      "Feature 1-A\n",
      "Feature 2-A\n"
     ]
    }
   ],
   "source": [
    "#METHOD RESOLUTION ORDER\n",
    "\n",
    "class A:\n",
    "    \n",
    "    def __init__(self):\n",
    "        print('init in A')\n",
    "        \n",
    "    def feature1(self):\n",
    "        print('Feature 1-A')\n",
    "        \n",
    "    def feature2(self):\n",
    "        print('Feature 2-A')\n",
    "        \n",
    "class B:\n",
    "    \n",
    "    def __init__(self):\n",
    "        print('init in B')\n",
    "        \n",
    "    def feature1(self):\n",
    "        print('Feature 1-B')\n",
    "        \n",
    "    def feature2(self):\n",
    "        print('Feature 2-B')\n",
    "    \n",
    "class C(A,B):\n",
    "    \n",
    "    def __init__(self):\n",
    "        super().__init__()  #Here we are getting init method from only because it follows Method Resolution Order(MRO)which means it takes order priority from left side'''\n",
    "        print('init in C')\n",
    "        \n",
    "    def feature5(self):\n",
    "        print('Feature 5')\n",
    "        \n",
    "    def feat(self):\n",
    "        super().feature2()\n",
    "\n",
    "c=C()\n",
    "c.feature1()\n",
    "c.feat()"
   ]
  },
  {
   "cell_type": "markdown",
   "metadata": {},
   "source": [
    "### POLYMORPHISM\n",
    "\n",
    "Types of polymorphism:\n",
    "- Duck Typing\n",
    "- Operator Overloading\n",
    "- Method Overloading\n",
    "- Method Overriding"
   ]
  },
  {
   "cell_type": "markdown",
   "metadata": {},
   "source": [
    "### Duck Typing"
   ]
  },
  {
   "cell_type": "code",
   "execution_count": 20,
   "metadata": {},
   "outputs": [
    {
     "name": "stdout",
     "output_type": "stream",
     "text": [
      "Spell checking\n",
      "Conventional check\n",
      "executing\n",
      "Running\n"
     ]
    }
   ],
   "source": [
    "class pycharm:\n",
    "    def execute(self):\n",
    "        print('executing')\n",
    "        print('Running')\n",
    "\n",
    "class myEditor:\n",
    "    def execute(self):\n",
    "        print('Spell checking')\n",
    "        print('Conventional check')\n",
    "        print('executing')\n",
    "        print('Running')\n",
    "\n",
    "class Laptop:\n",
    "    def code(ide):\n",
    "        ide.execute()\n",
    "\n",
    "ide=myEditor()\n",
    "lap=Laptop\n",
    "lap.code(ide)\n",
    "        "
   ]
  },
  {
   "cell_type": "markdown",
   "metadata": {},
   "source": [
    "### Operator Overloading"
   ]
  },
  {
   "cell_type": "code",
   "execution_count": 24,
   "metadata": {},
   "outputs": [
    {
     "name": "stdout",
     "output_type": "stream",
     "text": [
      "11\n"
     ]
    },
    {
     "data": {
      "text/plain": [
       "'helloworld'"
      ]
     },
     "execution_count": 24,
     "metadata": {},
     "output_type": "execute_result"
    }
   ],
   "source": [
    "a=5\n",
    "b=6\n",
    "print(int.__add__(a,b))  #Adding with the help of method\n",
    "\n",
    "c='hello'\n",
    "d='world'\n",
    "str.__add__(c,d)"
   ]
  },
  {
   "cell_type": "code",
   "execution_count": 29,
   "metadata": {},
   "outputs": [
    {
     "name": "stdout",
     "output_type": "stream",
     "text": [
      "118\n"
     ]
    }
   ],
   "source": [
    "class student:\n",
    "    \n",
    "    def __init__(self,m1,m2):\n",
    "        self.m1=m1\n",
    "        self.m2=m2\n",
    "    \n",
    "    def __add__(self,other):\n",
    "        m1=self.m1+other.m1\n",
    "        m2=self.m2+other.m2\n",
    "        s3=student(m1,m2)\n",
    "        return s3\n",
    "\n",
    "s1=student(58,69)\n",
    "s2=student(60,72)\n",
    "s3=s1+s2\n",
    "print(s3.m1)\n",
    "#print(student.__add__(s1,s2))"
   ]
  },
  {
   "cell_type": "markdown",
   "metadata": {},
   "source": [
    "### Method Overloading & Method Overriding\n",
    "#### Method Overloading:\n",
    "- In one class two methods having same name with different parameters\n",
    "\n",
    "#### Method Overriding:\n",
    "- Two methods having same name and same parameters but present in different classes"
   ]
  },
  {
   "cell_type": "code",
   "execution_count": 46,
   "metadata": {},
   "outputs": [
    {
     "data": {
      "text/plain": [
       "9"
      ]
     },
     "execution_count": 46,
     "metadata": {},
     "output_type": "execute_result"
    }
   ],
   "source": [
    "# Method Overloading\n",
    "\n",
    "class addition:\n",
    "    def add(self,a=None,b=None,c=None):\n",
    "        s=0\n",
    "        if a!=None and b!=None and c!=None:\n",
    "            s=a+b+c\n",
    "        elif a!=None and b!=None:\n",
    "            s=a+b\n",
    "        else: \n",
    "            s=a\n",
    "        \n",
    "        return s\n",
    "\n",
    "sum=addition()\n",
    "sum.add(9)"
   ]
  },
  {
   "cell_type": "code",
   "execution_count": 50,
   "metadata": {},
   "outputs": [
    {
     "name": "stdout",
     "output_type": "stream",
     "text": [
      "<__main__.B object at 0x000001E4E469A630>\n",
      "In b show\n"
     ]
    }
   ],
   "source": [
    "# Method Overriding\n",
    "class A:\n",
    "    \n",
    "    def show(self):\n",
    "        print('In a show')\n",
    "        \n",
    "class B(A):\n",
    "    def show(self):\n",
    "        print('In b show')\n",
    "\n",
    "a=A()\n",
    "b=B()\n",
    "print(b)\n",
    "b.show()"
   ]
  },
  {
   "cell_type": "code",
   "execution_count": null,
   "metadata": {},
   "outputs": [],
   "source": []
  }
 ],
 "metadata": {
  "kernelspec": {
   "display_name": "Python 3",
   "language": "python",
   "name": "python3"
  },
  "language_info": {
   "codemirror_mode": {
    "name": "ipython",
    "version": 3
   },
   "file_extension": ".py",
   "mimetype": "text/x-python",
   "name": "python",
   "nbconvert_exporter": "python",
   "pygments_lexer": "ipython3",
   "version": "3.6.5"
  }
 },
 "nbformat": 4,
 "nbformat_minor": 2
}
