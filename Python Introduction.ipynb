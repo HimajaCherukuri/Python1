{
 "cells": [
  {
   "cell_type": "markdown",
   "metadata": {},
   "source": [
    "# PYTHON PROGRAMMING\n",
    "## INTRODUCTION"
   ]
  },
  {
   "cell_type": "markdown",
   "metadata": {},
   "source": [
    "- Point1\n",
    "- point2\n",
    "    - sub point"
   ]
  },
  {
   "cell_type": "markdown",
   "metadata": {},
   "source": [
    "- **Point1**\n",
    "- *Point1*\n",
    "- ***Point1***"
   ]
  },
  {
   "cell_type": "code",
   "execution_count": 5,
   "metadata": {},
   "outputs": [
    {
     "data": {
      "text/plain": [
       "'C:\\\\Users\\\\Himaja Admin'"
      ]
     },
     "execution_count": 5,
     "metadata": {},
     "output_type": "execute_result"
    }
   ],
   "source": [
    "pwd"
   ]
  },
  {
   "cell_type": "markdown",
   "metadata": {},
   "source": [
    "<img src=\"python_logo.png\" height=\"100px\" width=\"100px\"/>"
   ]
  },
  {
   "cell_type": "markdown",
   "metadata": {},
   "source": [
    "<img src=\"C:\\\\Users\\\\Himaja Admin\\\\Desktop\\\\python_logo.png\" height=\"100px\" width=\"100px\"/>"
   ]
  },
  {
   "cell_type": "markdown",
   "metadata": {},
   "source": [
    "- Python can be used as general programming\n",
    "- Its more popular because of internal & external packages\n",
    "- Its used for functional,oop,scripting programming\n",
    "- pandas used in Data sciences,Machine learning & etc.,\n",
    "- Data Sciences\n",
    "    - Pandas\n",
    "- Visualization\n",
    "    - Matplotlib,scipy\n",
    "- Multi Dimensional Programming\n",
    "    - Numpy"
   ]
  },
  {
   "cell_type": "code",
   "execution_count": 10,
   "metadata": {},
   "outputs": [
    {
     "name": "stdout",
     "output_type": "stream",
     "text": [
      "Hello\n",
      "World\n"
     ]
    }
   ],
   "source": [
    "print(\"Hello\")\n",
    "print(\"World\")"
   ]
  },
  {
   "cell_type": "code",
   "execution_count": 11,
   "metadata": {},
   "outputs": [
    {
     "name": "stdout",
     "output_type": "stream",
     "text": [
      "Hello World\n"
     ]
    }
   ],
   "source": [
    "print(\"Hello\",\"World\")"
   ]
  },
  {
   "cell_type": "markdown",
   "metadata": {},
   "source": [
    "In python pgmg we use \",\" for concatenation"
   ]
  },
  {
   "cell_type": "code",
   "execution_count": 13,
   "metadata": {},
   "outputs": [
    {
     "name": "stdout",
     "output_type": "stream",
     "text": [
      "hello world\n"
     ]
    }
   ],
   "source": [
    "print(\"hello\",end=\" \")\n",
    "print(\"world\")"
   ]
  },
  {
   "cell_type": "markdown",
   "metadata": {},
   "source": [
    "### Data Types in Python\n",
    "- int\n",
    "- float \n",
    "- string"
   ]
  },
  {
   "cell_type": "code",
   "execution_count": 15,
   "metadata": {},
   "outputs": [
    {
     "name": "stdout",
     "output_type": "stream",
     "text": [
      "10000000000000 <class 'int'>\n",
      "1033.3232 <class 'float'>\n",
      "asad <class 'str'>\n"
     ]
    }
   ],
   "source": [
    "x=10000000000000\n",
    "print(x,type(x))\n",
    "y=1033.3232\n",
    "print(y,type(y))\n",
    "z=\"asad\"\n",
    "print(z,type(z))"
   ]
  },
  {
   "cell_type": "markdown",
   "metadata": {},
   "source": [
    "### INPUT FUNCTIONS IN PYTHON\n",
    "- input() which reads the input console and gives the output in terms of string format"
   ]
  },
  {
   "cell_type": "code",
   "execution_count": 17,
   "metadata": {},
   "outputs": [
    {
     "name": "stdout",
     "output_type": "stream",
     "text": [
      "Enter name: Hima\n",
      "Hima <class 'str'>\n"
     ]
    }
   ],
   "source": [
    "s=input(\"Enter name: \")\n",
    "print(s,type(s))"
   ]
  },
  {
   "cell_type": "markdown",
   "metadata": {},
   "source": [
    "### Type Conversions\n",
    "- int()\n",
    "    - It makes input into integer classes\n",
    "- float()\n",
    "    - It makes the input into float format\n",
    "- string()\n",
    "    - It makes the input into string format"
   ]
  },
  {
   "cell_type": "code",
   "execution_count": 19,
   "metadata": {},
   "outputs": [
    {
     "name": "stdout",
     "output_type": "stream",
     "text": [
      "Enter rollno: 4079\n"
     ]
    }
   ],
   "source": [
    "s=int(input(\"Enter rollno: \"))"
   ]
  },
  {
   "cell_type": "code",
   "execution_count": 22,
   "metadata": {},
   "outputs": [
    {
     "name": "stdout",
     "output_type": "stream",
     "text": [
      "Number : 34.0\n"
     ]
    }
   ],
   "source": [
    "f=float(input(\"Number : \"))"
   ]
  },
  {
   "cell_type": "code",
   "execution_count": 23,
   "metadata": {},
   "outputs": [
    {
     "name": "stdout",
     "output_type": "stream",
     "text": [
      "23\n",
      "23 <class 'str'>\n",
      "23 <class 'int'>\n",
      "23.0 <class 'float'>\n"
     ]
    }
   ],
   "source": [
    "a=input()\n",
    "print(a,type(a))\n",
    "a2=int(a)\n",
    "print(a2,type(a2))\n",
    "a3=float(a2)\n",
    "print(a3,type(a3))"
   ]
  },
  {
   "cell_type": "markdown",
   "metadata": {},
   "source": [
    "### Conditional Flow Statements\n",
    "- Conditional Statements\n",
    "    - if-else\n",
    "- Loop Statements\n",
    "    - while\n",
    "    - for"
   ]
  },
  {
   "cell_type": "code",
   "execution_count": 24,
   "metadata": {},
   "outputs": [
    {
     "name": "stdout",
     "output_type": "stream",
     "text": [
      "44446\n",
      "Even\n"
     ]
    }
   ],
   "source": [
    "x=int(input())\n",
    "if x%2==0 :\n",
    "    print(\"Even\")\n",
    "else:\n",
    "    print(\"Odd\")\n",
    "    "
   ]
  },
  {
   "cell_type": "markdown",
   "metadata": {},
   "source": [
    "## Read a character and upper case or lower cae\n",
    "### ASCII :\n",
    "- A-Z : 65-90\n",
    "- a-z : 97-122\n",
    "- 0-9 : 48-57\n",
    "- space :32\n",
    "- ord('char')- it returns output as ASCII number"
   ]
  },
  {
   "cell_type": "code",
   "execution_count": 30,
   "metadata": {},
   "outputs": [
    {
     "name": "stdout",
     "output_type": "stream",
     "text": [
      "97\n",
      "65\n",
      "51\n",
      "32\n",
      "A\n",
      "b\n"
     ]
    }
   ],
   "source": [
    "print(ord('a'))\n",
    "print(ord('A'))\n",
    "print(ord('3'))\n",
    "print(ord(' '))\n",
    "print(chr(65))\n",
    "print(chr(98))"
   ]
  },
  {
   "cell_type": "code",
   "execution_count": 27,
   "metadata": {},
   "outputs": [
    {
     "name": "stdout",
     "output_type": "stream",
     "text": [
      "e\n",
      "Lower case character\n"
     ]
    }
   ],
   "source": [
    "x=input()\n",
    "if ord(x) >= 65 and ord(x) <= 90:\n",
    "    print(\"Upper case character\")\n",
    "elif ord(x)>=97 and ord(x)<=122:\n",
    "    print(\"Lower case character\")"
   ]
  },
  {
   "cell_type": "code",
   "execution_count": 32,
   "metadata": {},
   "outputs": [
    {
     "name": "stdout",
     "output_type": "stream",
     "text": [
      "e\n",
      "E\n"
     ]
    }
   ],
   "source": [
    "# Read the char and print the output the viceversa\n",
    "# If input is 'a' output should be 'A' \n",
    "x=input()\n",
    "if ord(x)>=65 and ord(x)<=90:\n",
    "    print(chr(ord(x)+32))\n",
    "elif ord(x)>=97 and ord(x)<=122:\n",
    "    print(chr(ord(x)-32))\n"
   ]
  },
  {
   "cell_type": "code",
   "execution_count": 35,
   "metadata": {},
   "outputs": [
    {
     "name": "stdout",
     "output_type": "stream",
     "text": [
      "3.3333333333333335\n",
      "3\n"
     ]
    }
   ],
   "source": [
    "print(10/3)   #float value\n",
    "print(10//3)  #floor value"
   ]
  },
  {
   "cell_type": "code",
   "execution_count": 34,
   "metadata": {},
   "outputs": [
    {
     "name": "stdout",
     "output_type": "stream",
     "text": [
      "3\n"
     ]
    }
   ],
   "source": [
    "#While loop - when no fixed no of iterations\n",
    "#For Loop - Fixed no of iterations"
   ]
  },
  {
   "cell_type": "code",
   "execution_count": 37,
   "metadata": {},
   "outputs": [
    {
     "name": "stdout",
     "output_type": "stream",
     "text": [
      "Enter n5\n",
      "1\n",
      "2\n",
      "3\n",
      "4\n",
      "5\n"
     ]
    }
   ],
   "source": [
    "# print the natural numbers from 1 to n\n",
    "n= int(input(\"Enter n\"))\n",
    "i=1\n",
    "while i<=n:\n",
    "    print(i)\n",
    "    i+= 1"
   ]
  },
  {
   "cell_type": "code",
   "execution_count": null,
   "metadata": {},
   "outputs": [],
   "source": [
    "#print factors of given number\n",
    "n=int(input(\"Enter\"))\n",
    "i=1\n",
    "while i <= n:\n",
    "    if n%i == 0:\n",
    "        print(i)\n",
    "    i += 1"
   ]
  },
  {
   "cell_type": "code",
   "execution_count": null,
   "metadata": {},
   "outputs": [],
   "source": [
    "#Print digits in a given number\n",
    "n= int(input(\"Enter a number\"))\n",
    "i=1\n",
    "while i<=n:\n",
    "    r=n%10\n",
    "    print(r)\n",
    "    n=n/10\n",
    "    "
   ]
  },
  {
   "cell_type": "code",
   "execution_count": null,
   "metadata": {},
   "outputs": [],
   "source": [
    "print(\"hello\")"
   ]
  },
  {
   "cell_type": "code",
   "execution_count": null,
   "metadata": {},
   "outputs": [],
   "source": []
  }
 ],
 "metadata": {
  "kernelspec": {
   "display_name": "Python 3",
   "language": "python",
   "name": "python3"
  },
  "language_info": {
   "codemirror_mode": {
    "name": "ipython",
    "version": 3
   },
   "file_extension": ".py",
   "mimetype": "text/x-python",
   "name": "python",
   "nbconvert_exporter": "python",
   "pygments_lexer": "ipython3",
   "version": "3.6.5"
  }
 },
 "nbformat": 4,
 "nbformat_minor": 2
}
